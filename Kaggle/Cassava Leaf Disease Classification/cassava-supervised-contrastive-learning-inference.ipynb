{
 "cells": [
  {
   "cell_type": "markdown",
   "metadata": {
    "papermill": {
     "duration": 0.012297,
     "end_time": "2020-12-24T17:01:48.327436",
     "exception": false,
     "start_time": "2020-12-24T17:01:48.315139",
     "status": "completed"
    },
    "tags": []
   },
   "source": [
    "<center><img src=\"https://raw.githubusercontent.com/dimitreOliveira/MachineLearning/master/Kaggle/Cassava%20Leaf%20Disease%20Classification/banner.png\" width=\"1000\"></center>\n",
    "<br>\n",
    "<center><h1>Cassava Leaf Disease - Supervised Contrastive Learning - Inference</h1></center>\n",
    "<br>\n",
    "\n",
    "- This is the inference part of the work, the training notebook can be found here [Cassava Leaf - Supervised Contrastive Learning](https://www.kaggle.com/dimitreoliveira/cassava-leaf-supervised-contrastive-learning)\n",
    "- keras-applications GitHub repository can be found [here](https://www.kaggle.com/dimitreoliveira/kerasapplications)\n",
    "- efficientnet GitHub repository can be found [here](https://www.kaggle.com/dimitreoliveira/efficientnet-git)\n",
    "- Dataset source `center cropped` [512x512](https://www.kaggle.com/dimitreoliveira/cassava-leaf-disease-50-tfrecords-center-512x512)\n",
    "- Dataset source `external data` `center cropped` [512x512](https://www.kaggle.com/dimitreoliveira/cassava-leaf-disease-50-tfrecords-external-512x512)\n",
    "- Dataset source [discussion thread](https://www.kaggle.com/c/cassava-leaf-disease-classification/discussion/198744)\n",
    "- Dataset [creation source](https://www.kaggle.com/dimitreoliveira/cassava-leaf-disease-stratified-tfrecords-256x256)"
   ]
  },
  {
   "cell_type": "markdown",
   "metadata": {
    "papermill": {
     "duration": 0.011109,
     "end_time": "2020-12-24T17:01:48.349907",
     "exception": false,
     "start_time": "2020-12-24T17:01:48.338798",
     "status": "completed"
    },
    "tags": []
   },
   "source": [
    "## Dependencies"
   ]
  },
  {
   "cell_type": "code",
   "execution_count": 1,
   "metadata": {
    "_kg_hide-input": true,
    "execution": {
     "iopub.execute_input": "2020-12-24T17:01:48.377797Z",
     "iopub.status.busy": "2020-12-24T17:01:48.377062Z",
     "iopub.status.idle": "2020-12-24T17:02:44.882689Z",
     "shell.execute_reply": "2020-12-24T17:02:44.882093Z"
    },
    "papermill": {
     "duration": 56.521902,
     "end_time": "2020-12-24T17:02:44.882815",
     "exception": false,
     "start_time": "2020-12-24T17:01:48.360913",
     "status": "completed"
    },
    "tags": []
   },
   "outputs": [],
   "source": [
    "!pip install --quiet /kaggle/input/kerasapplications\n",
    "!pip install --quiet /kaggle/input/efficientnet-git"
   ]
  },
  {
   "cell_type": "code",
   "execution_count": 2,
   "metadata": {
    "_cell_guid": "b1076dfc-b9ad-4769-8c92-a6c4dae69d19",
    "_kg_hide-input": true,
    "_kg_hide-output": true,
    "_uuid": "8f2839f25d086af736a60e9eeb907d3b93b6e0e5",
    "execution": {
     "iopub.execute_input": "2020-12-24T17:02:44.914865Z",
     "iopub.status.busy": "2020-12-24T17:02:44.914067Z",
     "iopub.status.idle": "2020-12-24T17:02:50.025578Z",
     "shell.execute_reply": "2020-12-24T17:02:50.026164Z"
    },
    "papermill": {
     "duration": 5.131469,
     "end_time": "2020-12-24T17:02:50.026359",
     "exception": false,
     "start_time": "2020-12-24T17:02:44.894890",
     "status": "completed"
    },
    "tags": []
   },
   "outputs": [],
   "source": [
    "import math, os, re, warnings, random, glob\n",
    "import numpy as np\n",
    "import pandas as pd\n",
    "import tensorflow as tf\n",
    "import tensorflow.keras.layers as L\n",
    "import tensorflow.keras.backend as K\n",
    "from tensorflow.keras import Sequential, Model\n",
    "import efficientnet.tfkeras as efn\n",
    "\n",
    "def seed_everything(seed=0):\n",
    "    random.seed(seed)\n",
    "    np.random.seed(seed)\n",
    "    tf.random.set_seed(seed)\n",
    "    os.environ['PYTHONHASHSEED'] = str(seed)\n",
    "    os.environ['TF_DETERMINISTIC_OPS'] = '1'\n",
    "\n",
    "seed = 0\n",
    "seed_everything(seed)\n",
    "warnings.filterwarnings('ignore')"
   ]
  },
  {
   "cell_type": "markdown",
   "metadata": {
    "papermill": {
     "duration": 0.016703,
     "end_time": "2020-12-24T17:02:50.059662",
     "exception": false,
     "start_time": "2020-12-24T17:02:50.042959",
     "status": "completed"
    },
    "tags": []
   },
   "source": [
    "### Hardware configuration"
   ]
  },
  {
   "cell_type": "code",
   "execution_count": 3,
   "metadata": {
    "_kg_hide-input": true,
    "execution": {
     "iopub.execute_input": "2020-12-24T17:02:50.105541Z",
     "iopub.status.busy": "2020-12-24T17:02:50.104665Z",
     "iopub.status.idle": "2020-12-24T17:02:50.116982Z",
     "shell.execute_reply": "2020-12-24T17:02:50.117549Z"
    },
    "papermill": {
     "duration": 0.039829,
     "end_time": "2020-12-24T17:02:50.117685",
     "exception": false,
     "start_time": "2020-12-24T17:02:50.077856",
     "status": "completed"
    },
    "tags": []
   },
   "outputs": [
    {
     "name": "stdout",
     "output_type": "stream",
     "text": [
      "REPLICAS: 1\n"
     ]
    }
   ],
   "source": [
    "# TPU or GPU detection\n",
    "# Detect hardware, return appropriate distribution strategy\n",
    "try:\n",
    "    tpu = tf.distribute.cluster_resolver.TPUClusterResolver()\n",
    "    print(f'Running on TPU {tpu.master()}')\n",
    "except ValueError:\n",
    "    tpu = None\n",
    "\n",
    "if tpu:\n",
    "    tf.config.experimental_connect_to_cluster(tpu)\n",
    "    tf.tpu.experimental.initialize_tpu_system(tpu)\n",
    "    strategy = tf.distribute.experimental.TPUStrategy(tpu)\n",
    "else:\n",
    "    strategy = tf.distribute.get_strategy()\n",
    "\n",
    "AUTO = tf.data.experimental.AUTOTUNE\n",
    "REPLICAS = strategy.num_replicas_in_sync\n",
    "print(f'REPLICAS: {REPLICAS}')"
   ]
  },
  {
   "cell_type": "markdown",
   "metadata": {
    "papermill": {
     "duration": 0.018006,
     "end_time": "2020-12-24T17:02:50.152277",
     "exception": false,
     "start_time": "2020-12-24T17:02:50.134271",
     "status": "completed"
    },
    "tags": []
   },
   "source": [
    "# Model parameters"
   ]
  },
  {
   "cell_type": "code",
   "execution_count": 4,
   "metadata": {
    "execution": {
     "iopub.execute_input": "2020-12-24T17:02:50.194818Z",
     "iopub.status.busy": "2020-12-24T17:02:50.193957Z",
     "iopub.status.idle": "2020-12-24T17:02:50.196082Z",
     "shell.execute_reply": "2020-12-24T17:02:50.196486Z"
    },
    "papermill": {
     "duration": 0.02437,
     "end_time": "2020-12-24T17:02:50.196592",
     "exception": false,
     "start_time": "2020-12-24T17:02:50.172222",
     "status": "completed"
    },
    "tags": []
   },
   "outputs": [],
   "source": [
    "BATCH_SIZE = 16 * REPLICAS\n",
    "HEIGHT = 512\n",
    "WIDTH = 512 \n",
    "CHANNELS = 3\n",
    "N_CLASSES = 5\n",
    "TTA_STEPS = 0 # Do TTA if > 0 \n",
    "USE_REGULAR = False\n",
    "USE_SCL = True"
   ]
  },
  {
   "cell_type": "markdown",
   "metadata": {
    "papermill": {
     "duration": 0.011327,
     "end_time": "2020-12-24T17:02:50.219429",
     "exception": false,
     "start_time": "2020-12-24T17:02:50.208102",
     "status": "completed"
    },
    "tags": []
   },
   "source": [
    "# Augmentation"
   ]
  },
  {
   "cell_type": "code",
   "execution_count": 5,
   "metadata": {
    "_kg_hide-input": false,
    "execution": {
     "iopub.execute_input": "2020-12-24T17:02:50.250536Z",
     "iopub.status.busy": "2020-12-24T17:02:50.249784Z",
     "iopub.status.idle": "2020-12-24T17:02:50.271360Z",
     "shell.execute_reply": "2020-12-24T17:02:50.271906Z"
    },
    "papermill": {
     "duration": 0.04118,
     "end_time": "2020-12-24T17:02:50.272040",
     "exception": false,
     "start_time": "2020-12-24T17:02:50.230860",
     "status": "completed"
    },
    "tags": []
   },
   "outputs": [],
   "source": [
    "def data_augment(image, label):\n",
    "    p_spatial = tf.random.uniform([], 0, 1.0, dtype=tf.float32)\n",
    "    p_rotate = tf.random.uniform([], 0, 1.0, dtype=tf.float32)\n",
    "    p_pixel_1 = tf.random.uniform([], 0, 1.0, dtype=tf.float32)\n",
    "    p_pixel_2 = tf.random.uniform([], 0, 1.0, dtype=tf.float32)\n",
    "    p_pixel_3 = tf.random.uniform([], 0, 1.0, dtype=tf.float32)\n",
    "    p_crop = tf.random.uniform([], 0, 1.0, dtype=tf.float32)\n",
    "            \n",
    "    # Flips\n",
    "    image = tf.image.random_flip_left_right(image)\n",
    "    image = tf.image.random_flip_up_down(image)\n",
    "    if p_spatial > .75:\n",
    "        image = tf.image.transpose(image)\n",
    "        \n",
    "    # Rotates\n",
    "    if p_rotate > .75:\n",
    "        image = tf.image.rot90(image, k=3) # rotate 270º\n",
    "    elif p_rotate > .5:\n",
    "        image = tf.image.rot90(image, k=2) # rotate 180º\n",
    "    elif p_rotate > .25:\n",
    "        image = tf.image.rot90(image, k=1) # rotate 90º\n",
    "        \n",
    "    # Pixel-level transforms\n",
    "    if p_pixel_1 >= .4:\n",
    "        image = tf.image.random_saturation(image, lower=.7, upper=1.3)\n",
    "    if p_pixel_2 >= .4:\n",
    "        image = tf.image.random_contrast(image, lower=.8, upper=1.2)\n",
    "    if p_pixel_3 >= .4:\n",
    "        image = tf.image.random_brightness(image, max_delta=.1)\n",
    "        \n",
    "    # Crops\n",
    "    if p_crop > .6:\n",
    "        if p_crop > .9:\n",
    "            image = tf.image.central_crop(image, central_fraction=.5)\n",
    "        elif p_crop > .8:\n",
    "            image = tf.image.central_crop(image, central_fraction=.6)\n",
    "        elif p_crop > .7:\n",
    "            image = tf.image.central_crop(image, central_fraction=.7)\n",
    "        else:\n",
    "            image = tf.image.central_crop(image, central_fraction=.8)\n",
    "    elif p_crop > .3:\n",
    "        crop_size = tf.random.uniform([], int(HEIGHT*.6), HEIGHT, dtype=tf.int32)\n",
    "        image = tf.image.random_crop(image, size=[crop_size, crop_size, CHANNELS])\n",
    "            \n",
    "    image = tf.image.resize(image, size=[HEIGHT, WIDTH])\n",
    "        \n",
    "    return image, label"
   ]
  },
  {
   "cell_type": "markdown",
   "metadata": {
    "papermill": {
     "duration": 0.016629,
     "end_time": "2020-12-24T17:02:50.305629",
     "exception": false,
     "start_time": "2020-12-24T17:02:50.289000",
     "status": "completed"
    },
    "tags": []
   },
   "source": [
    "## Auxiliary functions"
   ]
  },
  {
   "cell_type": "code",
   "execution_count": 6,
   "metadata": {
    "_cell_guid": "79c7e3d0-c299-4dcb-8224-4455121ee9b0",
    "_kg_hide-input": true,
    "_uuid": "d629ff2d2480ee46fbb7e2d37f6b5fab8052498a",
    "execution": {
     "iopub.execute_input": "2020-12-24T17:02:50.350297Z",
     "iopub.status.busy": "2020-12-24T17:02:50.349565Z",
     "iopub.status.idle": "2020-12-24T17:02:50.365931Z",
     "shell.execute_reply": "2020-12-24T17:02:50.366850Z"
    },
    "papermill": {
     "duration": 0.0434,
     "end_time": "2020-12-24T17:02:50.366980",
     "exception": false,
     "start_time": "2020-12-24T17:02:50.323580",
     "status": "completed"
    },
    "tags": []
   },
   "outputs": [],
   "source": [
    "# Datasets utility functions\n",
    "def get_name(file_path):\n",
    "    parts = tf.strings.split(file_path, os.path.sep)\n",
    "    name = parts[-1]\n",
    "    return name\n",
    "\n",
    "def decode_image(image_data):\n",
    "    image = tf.image.decode_jpeg(image_data, channels=3)\n",
    "    image = tf.cast(image, tf.float32) / 255.0\n",
    "    \n",
    "#     image = center_crop(image)\n",
    "    return image\n",
    "\n",
    "def center_crop(image):\n",
    "    image = tf.reshape(image, [600, 800, CHANNELS]) # Original shape\n",
    "    \n",
    "    h, w = image.shape[0], image.shape[1]\n",
    "    if h > w:\n",
    "        image = tf.image.crop_to_bounding_box(image, (h - w) // 2, 0, w, w)\n",
    "    else:\n",
    "        image = tf.image.crop_to_bounding_box(image, 0, (w - h) // 2, h, h)\n",
    "        \n",
    "    image = tf.image.resize(image, [HEIGHT, WIDTH]) # Expected shape\n",
    "    return image\n",
    "\n",
    "def resize_image(image, label):\n",
    "    image = tf.image.resize(image, [HEIGHT, WIDTH])\n",
    "    image = tf.reshape(image, [HEIGHT, WIDTH, CHANNELS])\n",
    "    return image, label\n",
    "\n",
    "def process_path(file_path):\n",
    "    name = get_name(file_path)\n",
    "    img = tf.io.read_file(file_path)\n",
    "    img = decode_image(img)\n",
    "    return img, name\n",
    "\n",
    "def get_dataset(files_path, shuffled=False, tta=False, extension='jpg'):\n",
    "    dataset = tf.data.Dataset.list_files(f'{files_path}*{extension}', shuffle=shuffled)\n",
    "    dataset = dataset.map(process_path, num_parallel_calls=AUTO)\n",
    "    if tta:\n",
    "        dataset = dataset.map(data_augment, num_parallel_calls=AUTO)\n",
    "    dataset = dataset.map(resize_image, num_parallel_calls=AUTO)\n",
    "    dataset = dataset.batch(BATCH_SIZE)\n",
    "    dataset = dataset.prefetch(AUTO)\n",
    "    return dataset\n",
    "\n",
    "def count_data_items(filenames):\n",
    "    n = [int(re.compile(r\"-([0-9]*)\\.\").search(filename).group(1)) for filename in filenames]\n",
    "    return np.sum(n)"
   ]
  },
  {
   "cell_type": "markdown",
   "metadata": {
    "papermill": {
     "duration": 0.017209,
     "end_time": "2020-12-24T17:02:50.402192",
     "exception": false,
     "start_time": "2020-12-24T17:02:50.384983",
     "status": "completed"
    },
    "tags": []
   },
   "source": [
    "# Load data"
   ]
  },
  {
   "cell_type": "code",
   "execution_count": 7,
   "metadata": {
    "_kg_hide-input": true,
    "execution": {
     "iopub.execute_input": "2020-12-24T17:02:50.507898Z",
     "iopub.status.busy": "2020-12-24T17:02:50.504365Z",
     "iopub.status.idle": "2020-12-24T17:02:50.540749Z",
     "shell.execute_reply": "2020-12-24T17:02:50.540021Z"
    },
    "papermill": {
     "duration": 0.120775,
     "end_time": "2020-12-24T17:02:50.540885",
     "exception": false,
     "start_time": "2020-12-24T17:02:50.420110",
     "status": "completed"
    },
    "tags": []
   },
   "outputs": [
    {
     "data": {
      "text/html": [
       "<div>\n",
       "<style scoped>\n",
       "    .dataframe tbody tr th:only-of-type {\n",
       "        vertical-align: middle;\n",
       "    }\n",
       "\n",
       "    .dataframe tbody tr th {\n",
       "        vertical-align: top;\n",
       "    }\n",
       "\n",
       "    .dataframe thead th {\n",
       "        text-align: right;\n",
       "    }\n",
       "</style>\n",
       "<table border=\"1\" class=\"dataframe\">\n",
       "  <thead>\n",
       "    <tr style=\"text-align: right;\">\n",
       "      <th></th>\n",
       "      <th>image_id</th>\n",
       "      <th>label</th>\n",
       "    </tr>\n",
       "  </thead>\n",
       "  <tbody>\n",
       "    <tr>\n",
       "      <th>0</th>\n",
       "      <td>2216849948.jpg</td>\n",
       "      <td>4</td>\n",
       "    </tr>\n",
       "  </tbody>\n",
       "</table>\n",
       "</div>"
      ],
      "text/plain": [
       "         image_id  label\n",
       "0  2216849948.jpg      4"
      ]
     },
     "metadata": {},
     "output_type": "display_data"
    },
    {
     "name": "stdout",
     "output_type": "stream",
     "text": [
      "GCS: test: 1\n"
     ]
    }
   ],
   "source": [
    "database_base_path = '/kaggle/input/cassava-leaf-disease-classification/'\n",
    "submission = pd.read_csv(f'{database_base_path}sample_submission.csv')\n",
    "display(submission.head())\n",
    "\n",
    "TEST_FILENAMES = tf.io.gfile.glob(f'{database_base_path}test_tfrecords/ld_test*.tfrec')\n",
    "NUM_TEST_IMAGES = count_data_items(TEST_FILENAMES)\n",
    "print(f'GCS: test: {NUM_TEST_IMAGES}')"
   ]
  },
  {
   "cell_type": "code",
   "execution_count": 8,
   "metadata": {
    "_kg_hide-input": true,
    "execution": {
     "iopub.execute_input": "2020-12-24T17:02:50.583366Z",
     "iopub.status.busy": "2020-12-24T17:02:50.582819Z",
     "iopub.status.idle": "2020-12-24T17:02:50.594457Z",
     "shell.execute_reply": "2020-12-24T17:02:50.593765Z"
    },
    "papermill": {
     "duration": 0.031057,
     "end_time": "2020-12-24T17:02:50.594550",
     "exception": false,
     "start_time": "2020-12-24T17:02:50.563493",
     "status": "completed"
    },
    "tags": []
   },
   "outputs": [
    {
     "name": "stdout",
     "output_type": "stream",
     "text": [
      "Models to predict:\n",
      "/kaggle/input/cassava-leaf-supervised-contrastive-learning/model_reg_0.h5\n",
      "\n",
      "Models to predict:\n",
      "/kaggle/input/cassava-leaf-supervised-contrastive-learning/model_scl_0.h5\n"
     ]
    }
   ],
   "source": [
    "model_path_list = glob.glob('/kaggle/input/cassava-leaf-supervised-contrastive-learning/model_reg*.h5')\n",
    "model_path_list.sort()\n",
    "\n",
    "print('Models to predict:')\n",
    "print(*model_path_list, sep='\\n')\n",
    "\n",
    "model_path_list_scl = glob.glob('/kaggle/input/cassava-leaf-supervised-contrastive-learning/model_scl*.h5')\n",
    "model_path_list_scl.sort()\n",
    "\n",
    "print('\\nModels to predict:')\n",
    "print(*model_path_list_scl, sep='\\n')"
   ]
  },
  {
   "cell_type": "markdown",
   "metadata": {
    "papermill": {
     "duration": 0.012934,
     "end_time": "2020-12-24T17:02:50.622129",
     "exception": false,
     "start_time": "2020-12-24T17:02:50.609195",
     "status": "completed"
    },
    "tags": []
   },
   "source": [
    "# Model"
   ]
  },
  {
   "cell_type": "code",
   "execution_count": 9,
   "metadata": {
    "_kg_hide-output": false,
    "execution": {
     "iopub.execute_input": "2020-12-24T17:02:50.656530Z",
     "iopub.status.busy": "2020-12-24T17:02:50.655920Z",
     "iopub.status.idle": "2020-12-24T17:02:50.659803Z",
     "shell.execute_reply": "2020-12-24T17:02:50.659360Z"
    },
    "papermill": {
     "duration": 0.02514,
     "end_time": "2020-12-24T17:02:50.659883",
     "exception": false,
     "start_time": "2020-12-24T17:02:50.634743",
     "status": "completed"
    },
    "tags": []
   },
   "outputs": [],
   "source": [
    "def encoder_fn(input_shape):\n",
    "    inputs = L.Input(shape=input_shape, name='inputs')\n",
    "    base_model = efn.EfficientNetB3(input_tensor=inputs, \n",
    "                                    include_top=False, \n",
    "                                    weights=None, \n",
    "                                    pooling='avg')\n",
    "    \n",
    "    model = Model(inputs=inputs, outputs=base_model.outputs)\n",
    "\n",
    "    return model\n",
    "\n",
    "\n",
    "def classifier_fn(input_shape, N_CLASSES, encoder, trainable=True):\n",
    "    for layer in encoder.layers:\n",
    "        layer.trainable = trainable\n",
    "        \n",
    "    inputs = L.Input(shape=input_shape, name='inputs')\n",
    "    \n",
    "    features = encoder(inputs)\n",
    "    features = L.Dropout(.5)(features)\n",
    "    features = L.Dense(1000, activation='relu')(features)\n",
    "    features = L.Dropout(.5)(features)\n",
    "    outputs = L.Dense(N_CLASSES, activation='softmax', name='outputs', dtype='float32')(features)\n",
    "\n",
    "    model = Model(inputs=inputs, outputs=outputs)\n",
    "\n",
    "    return model"
   ]
  },
  {
   "cell_type": "markdown",
   "metadata": {
    "papermill": {
     "duration": 0.012383,
     "end_time": "2020-12-24T17:02:50.684978",
     "exception": false,
     "start_time": "2020-12-24T17:02:50.672595",
     "status": "completed"
    },
    "tags": []
   },
   "source": [
    "# Test set predictions"
   ]
  },
  {
   "cell_type": "code",
   "execution_count": 10,
   "metadata": {
    "_kg_hide-input": false,
    "execution": {
     "iopub.execute_input": "2020-12-24T17:02:50.727616Z",
     "iopub.status.busy": "2020-12-24T17:02:50.727053Z",
     "iopub.status.idle": "2020-12-24T17:03:08.851402Z",
     "shell.execute_reply": "2020-12-24T17:03:08.850928Z"
    },
    "papermill": {
     "duration": 18.153764,
     "end_time": "2020-12-24T17:03:08.851522",
     "exception": false,
     "start_time": "2020-12-24T17:02:50.697758",
     "status": "completed"
    },
    "tags": []
   },
   "outputs": [
    {
     "name": "stdout",
     "output_type": "stream",
     "text": [
      "\n",
      "Inference for \"Supervised Contrastive Learning\" models\n",
      "/kaggle/input/cassava-leaf-supervised-contrastive-learning/model_scl_0.h5\n"
     ]
    }
   ],
   "source": [
    "files_path = f'{database_base_path}test_images/'\n",
    "test_size = len(os.listdir(files_path))\n",
    "test_preds = np.zeros((test_size, N_CLASSES))\n",
    "\n",
    "\n",
    "if USE_REGULAR:\n",
    "    print('Inference for regular trainining models')\n",
    "    with strategy.scope():\n",
    "        encoder = encoder_fn((None, None, CHANNELS))\n",
    "        model = classifier_fn((None, None, CHANNELS), N_CLASSES, encoder)\n",
    "\n",
    "    for model_path in model_path_list:\n",
    "        print(model_path)\n",
    "        K.clear_session()\n",
    "        model.load_weights(model_path)\n",
    "\n",
    "        if TTA_STEPS > 0:\n",
    "            test_ds = get_dataset(files_path, tta=True).repeat()\n",
    "            ct_steps = TTA_STEPS * ((test_size/BATCH_SIZE) + 1)\n",
    "            preds = model.predict(test_ds, steps=ct_steps, verbose=1)[:(test_size * TTA_STEPS)]\n",
    "            preds = np.mean(preds.reshape(test_size, TTA_STEPS, N_CLASSES, order='F'), axis=1)\n",
    "            test_preds += preds / len(model_path_list)\n",
    "        else:\n",
    "            test_ds = get_dataset(files_path, tta=False)\n",
    "            x_test = test_ds.map(lambda image, image_name: image)\n",
    "            test_preds += model.predict(x_test) / len(model_path_list)\n",
    "        \n",
    "        \n",
    "if USE_SCL:\n",
    "    print('\\nInference for \"Supervised Contrastive Learning\" models')\n",
    "    with strategy.scope():\n",
    "        encoder = encoder_fn((None, None, CHANNELS))\n",
    "        model = classifier_fn((None, None, CHANNELS), N_CLASSES, encoder, trainable=False)\n",
    "\n",
    "    for model_path in model_path_list_scl:\n",
    "        print(model_path)\n",
    "        K.clear_session()\n",
    "        model.load_weights(model_path)\n",
    "\n",
    "        if TTA_STEPS > 0:\n",
    "            test_ds = get_dataset(files_path, tta=True).repeat()\n",
    "            ct_steps = TTA_STEPS * ((test_size/BATCH_SIZE) + 1)\n",
    "            preds = model.predict(test_ds, steps=ct_steps, verbose=1)[:(test_size * TTA_STEPS)]\n",
    "            preds = np.mean(preds.reshape(test_size, TTA_STEPS, N_CLASSES, order='F'), axis=1)\n",
    "            test_preds += preds / len(model_path_list_scl)\n",
    "        else:\n",
    "            test_ds = get_dataset(files_path, tta=False)\n",
    "            x_test = test_ds.map(lambda image, image_name: image)\n",
    "            test_preds += model.predict(x_test) / len(model_path_list_scl)\n",
    "    \n",
    "test_preds = np.argmax(test_preds, axis=-1)\n",
    "test_names_ds = get_dataset(files_path)\n",
    "image_names = [img_name.numpy().decode('utf-8') for img, img_name in iter(test_names_ds.unbatch())]"
   ]
  },
  {
   "cell_type": "code",
   "execution_count": 11,
   "metadata": {
    "_kg_hide-input": true,
    "execution": {
     "iopub.execute_input": "2020-12-24T17:03:08.885512Z",
     "iopub.status.busy": "2020-12-24T17:03:08.884853Z",
     "iopub.status.idle": "2020-12-24T17:03:08.942557Z",
     "shell.execute_reply": "2020-12-24T17:03:08.942070Z"
    },
    "papermill": {
     "duration": 0.077289,
     "end_time": "2020-12-24T17:03:08.942652",
     "exception": false,
     "start_time": "2020-12-24T17:03:08.865363",
     "status": "completed"
    },
    "tags": []
   },
   "outputs": [
    {
     "data": {
      "text/html": [
       "<div>\n",
       "<style scoped>\n",
       "    .dataframe tbody tr th:only-of-type {\n",
       "        vertical-align: middle;\n",
       "    }\n",
       "\n",
       "    .dataframe tbody tr th {\n",
       "        vertical-align: top;\n",
       "    }\n",
       "\n",
       "    .dataframe thead th {\n",
       "        text-align: right;\n",
       "    }\n",
       "</style>\n",
       "<table border=\"1\" class=\"dataframe\">\n",
       "  <thead>\n",
       "    <tr style=\"text-align: right;\">\n",
       "      <th></th>\n",
       "      <th>image_id</th>\n",
       "      <th>label</th>\n",
       "    </tr>\n",
       "  </thead>\n",
       "  <tbody>\n",
       "    <tr>\n",
       "      <th>0</th>\n",
       "      <td>2216849948.jpg</td>\n",
       "      <td>4</td>\n",
       "    </tr>\n",
       "  </tbody>\n",
       "</table>\n",
       "</div>"
      ],
      "text/plain": [
       "         image_id  label\n",
       "0  2216849948.jpg      4"
      ]
     },
     "metadata": {},
     "output_type": "display_data"
    }
   ],
   "source": [
    "submission = pd.DataFrame({'image_id': image_names, 'label': test_preds})\n",
    "submission.to_csv('submission.csv', index=False)\n",
    "display(submission.head())"
   ]
  }
 ],
 "metadata": {
  "kernelspec": {
   "display_name": "Python 3",
   "language": "python",
   "name": "python3"
  },
  "language_info": {
   "codemirror_mode": {
    "name": "ipython",
    "version": 3
   },
   "file_extension": ".py",
   "mimetype": "text/x-python",
   "name": "python",
   "nbconvert_exporter": "python",
   "pygments_lexer": "ipython3",
   "version": "3.7.6"
  },
  "papermill": {
   "duration": 85.866367,
   "end_time": "2020-12-24T17:03:10.370791",
   "environment_variables": {},
   "exception": null,
   "input_path": "__notebook__.ipynb",
   "output_path": "__notebook__.ipynb",
   "parameters": {},
   "start_time": "2020-12-24T17:01:44.504424",
   "version": "2.1.0"
  }
 },
 "nbformat": 4,
 "nbformat_minor": 4
}
