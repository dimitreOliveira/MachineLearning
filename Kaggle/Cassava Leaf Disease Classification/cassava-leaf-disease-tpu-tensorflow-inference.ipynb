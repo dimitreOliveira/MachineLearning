{
 "cells": [
  {
   "cell_type": "markdown",
   "metadata": {
    "papermill": {
     "duration": 0.015542,
     "end_time": "2021-01-29T23:43:31.025541",
     "exception": false,
     "start_time": "2021-01-29T23:43:31.009999",
     "status": "completed"
    },
    "tags": []
   },
   "source": [
    "<center><img src=\"https://raw.githubusercontent.com/dimitreOliveira/MachineLearning/master/Kaggle/Cassava%20Leaf%20Disease%20Classification/banner.png\" width=\"1000\"></center>\n",
    "<br>\n",
    "<center><h1>Cassava Leaf Disease - TPU Tensorflow - Inference</h1></center>\n",
    "<br>\n",
    "\n",
    "- This is the inference part of the work, the training notebook can be found here [Cassava Leaf Disease - TPU Tensorflow - Training](https://www.kaggle.com/dimitreoliveira/cassava-leaf-disease-tpu-tensorflow-training)\n",
    "- keras-applications GitHub repository can be found [here](https://www.kaggle.com/dimitreoliveira/kerasapplications)\n",
    "- efficientnet GitHub repository can be found [here](https://www.kaggle.com/dimitreoliveira/efficientnet-git)\n",
    "- Dataset source `resized` [128x128](https://www.kaggle.com/dimitreoliveira/cassava-leaf-disease-tfrecords-128x128), [256x256](https://www.kaggle.com/dimitreoliveira/cassava-leaf-disease-tfrecords-256x256), [384x384](https://www.kaggle.com/dimitreoliveira/cassava-leaf-disease-tfrecords-384x384), [512x512](https://www.kaggle.com/dimitreoliveira/cassava-leaf-disease-tfrecords-512x512)\n",
    "- Dataset source `center cropped` [128x128](https://www.kaggle.com/dimitreoliveira/cassava-leaf-disease-tfrecords-center-128x128), [256x256](https://www.kaggle.com/dimitreoliveira/cassava-leaf-disease-tfrecords-center-256x256), [384x384](https://www.kaggle.com/dimitreoliveira/cassava-leaf-disease-tfrecords-center-384x384), [512x512](https://www.kaggle.com/dimitreoliveira/cassava-leaf-disease-tfrecords-center-512x512)\n",
    "- Dataset source [discussion thread](https://www.kaggle.com/c/cassava-leaf-disease-classification/discussion/198744)\n",
    "- Dataset [creation source](https://www.kaggle.com/dimitreoliveira/cassava-leaf-disease-stratified-tfrecords-256x256)"
   ]
  },
  {
   "cell_type": "markdown",
   "metadata": {
    "papermill": {
     "duration": 0.014905,
     "end_time": "2021-01-29T23:43:31.055856",
     "exception": false,
     "start_time": "2021-01-29T23:43:31.040951",
     "status": "completed"
    },
    "tags": []
   },
   "source": [
    "## Dependencies"
   ]
  },
  {
   "cell_type": "code",
   "execution_count": 1,
   "metadata": {
    "_kg_hide-input": true,
    "execution": {
     "iopub.execute_input": "2021-01-29T23:43:31.094198Z",
     "iopub.status.busy": "2021-01-29T23:43:31.093340Z",
     "iopub.status.idle": "2021-01-29T23:44:31.175424Z",
     "shell.execute_reply": "2021-01-29T23:44:31.174643Z"
    },
    "papermill": {
     "duration": 60.10384,
     "end_time": "2021-01-29T23:44:31.175567",
     "exception": false,
     "start_time": "2021-01-29T23:43:31.071727",
     "status": "completed"
    },
    "tags": []
   },
   "outputs": [],
   "source": [
    "!pip install --quiet /kaggle/input/kerasapplications\n",
    "!pip install --quiet /kaggle/input/efficientnet-git"
   ]
  },
  {
   "cell_type": "code",
   "execution_count": 2,
   "metadata": {
    "_cell_guid": "b1076dfc-b9ad-4769-8c92-a6c4dae69d19",
    "_kg_hide-input": true,
    "_kg_hide-output": true,
    "_uuid": "8f2839f25d086af736a60e9eeb907d3b93b6e0e5",
    "execution": {
     "iopub.execute_input": "2021-01-29T23:44:31.220948Z",
     "iopub.status.busy": "2021-01-29T23:44:31.219330Z",
     "iopub.status.idle": "2021-01-29T23:44:37.749631Z",
     "shell.execute_reply": "2021-01-29T23:44:37.748400Z"
    },
    "papermill": {
     "duration": 6.557243,
     "end_time": "2021-01-29T23:44:37.749782",
     "exception": false,
     "start_time": "2021-01-29T23:44:31.192539",
     "status": "completed"
    },
    "tags": []
   },
   "outputs": [],
   "source": [
    "import math, os, re, warnings, random, glob\n",
    "import numpy as np\n",
    "import pandas as pd\n",
    "import tensorflow as tf\n",
    "import tensorflow.keras.layers as L\n",
    "import tensorflow.keras.backend as K\n",
    "from tensorflow.keras import Sequential, Model\n",
    "import efficientnet.tfkeras as efn\n",
    "\n",
    "def seed_everything(seed=0):\n",
    "    random.seed(seed)\n",
    "    np.random.seed(seed)\n",
    "    tf.random.set_seed(seed)\n",
    "    os.environ['PYTHONHASHSEED'] = str(seed)\n",
    "    os.environ['TF_DETERMINISTIC_OPS'] = '1'\n",
    "\n",
    "seed = 0\n",
    "seed_everything(seed)\n",
    "warnings.filterwarnings('ignore')"
   ]
  },
  {
   "cell_type": "markdown",
   "metadata": {
    "papermill": {
     "duration": 0.015142,
     "end_time": "2021-01-29T23:44:37.780737",
     "exception": false,
     "start_time": "2021-01-29T23:44:37.765595",
     "status": "completed"
    },
    "tags": []
   },
   "source": [
    "### Hardware configuration"
   ]
  },
  {
   "cell_type": "code",
   "execution_count": 3,
   "metadata": {
    "_kg_hide-input": true,
    "execution": {
     "iopub.execute_input": "2021-01-29T23:44:37.820820Z",
     "iopub.status.busy": "2021-01-29T23:44:37.820033Z",
     "iopub.status.idle": "2021-01-29T23:44:37.831269Z",
     "shell.execute_reply": "2021-01-29T23:44:37.830708Z"
    },
    "papermill": {
     "duration": 0.035527,
     "end_time": "2021-01-29T23:44:37.831396",
     "exception": false,
     "start_time": "2021-01-29T23:44:37.795869",
     "status": "completed"
    },
    "tags": []
   },
   "outputs": [
    {
     "name": "stdout",
     "output_type": "stream",
     "text": [
      "REPLICAS: 1\n"
     ]
    }
   ],
   "source": [
    "# TPU or GPU detection\n",
    "# Detect hardware, return appropriate distribution strategy\n",
    "try:\n",
    "    tpu = tf.distribute.cluster_resolver.TPUClusterResolver()\n",
    "    print(f'Running on TPU {tpu.master()}')\n",
    "except ValueError:\n",
    "    tpu = None\n",
    "\n",
    "if tpu:\n",
    "    tf.config.experimental_connect_to_cluster(tpu)\n",
    "    tf.tpu.experimental.initialize_tpu_system(tpu)\n",
    "    strategy = tf.distribute.experimental.TPUStrategy(tpu)\n",
    "else:\n",
    "    strategy = tf.distribute.get_strategy()\n",
    "\n",
    "AUTO = tf.data.experimental.AUTOTUNE\n",
    "REPLICAS = strategy.num_replicas_in_sync\n",
    "print(f'REPLICAS: {REPLICAS}')"
   ]
  },
  {
   "cell_type": "markdown",
   "metadata": {
    "papermill": {
     "duration": 0.015192,
     "end_time": "2021-01-29T23:44:37.862542",
     "exception": false,
     "start_time": "2021-01-29T23:44:37.847350",
     "status": "completed"
    },
    "tags": []
   },
   "source": [
    "# Model parameters"
   ]
  },
  {
   "cell_type": "code",
   "execution_count": 4,
   "metadata": {
    "execution": {
     "iopub.execute_input": "2021-01-29T23:44:37.900145Z",
     "iopub.status.busy": "2021-01-29T23:44:37.899170Z",
     "iopub.status.idle": "2021-01-29T23:44:37.902380Z",
     "shell.execute_reply": "2021-01-29T23:44:37.901885Z"
    },
    "papermill": {
     "duration": 0.023945,
     "end_time": "2021-01-29T23:44:37.902488",
     "exception": false,
     "start_time": "2021-01-29T23:44:37.878543",
     "status": "completed"
    },
    "tags": []
   },
   "outputs": [],
   "source": [
    "BATCH_SIZE = 16 * REPLICAS\n",
    "HEIGHT = 512\n",
    "WIDTH = 512 \n",
    "CHANNELS = 3\n",
    "N_CLASSES = 5\n",
    "TTA_STEPS = 5 # Do TTA if > 0 "
   ]
  },
  {
   "cell_type": "markdown",
   "metadata": {
    "papermill": {
     "duration": 0.014785,
     "end_time": "2021-01-29T23:44:37.933951",
     "exception": false,
     "start_time": "2021-01-29T23:44:37.919166",
     "status": "completed"
    },
    "tags": []
   },
   "source": [
    "# Augmentation"
   ]
  },
  {
   "cell_type": "code",
   "execution_count": 5,
   "metadata": {
    "_kg_hide-input": false,
    "execution": {
     "iopub.execute_input": "2021-01-29T23:44:37.980017Z",
     "iopub.status.busy": "2021-01-29T23:44:37.978217Z",
     "iopub.status.idle": "2021-01-29T23:44:37.983140Z",
     "shell.execute_reply": "2021-01-29T23:44:37.982562Z"
    },
    "papermill": {
     "duration": 0.03377,
     "end_time": "2021-01-29T23:44:37.983266",
     "exception": false,
     "start_time": "2021-01-29T23:44:37.949496",
     "status": "completed"
    },
    "tags": []
   },
   "outputs": [],
   "source": [
    "def data_augment(image, label):\n",
    "    p_spatial = tf.random.uniform([], 0, 1.0, dtype=tf.float32)\n",
    "    p_rotate = tf.random.uniform([], 0, 1.0, dtype=tf.float32)\n",
    "    p_pixel_1 = tf.random.uniform([], 0, 1.0, dtype=tf.float32)\n",
    "    p_pixel_2 = tf.random.uniform([], 0, 1.0, dtype=tf.float32)\n",
    "    p_pixel_3 = tf.random.uniform([], 0, 1.0, dtype=tf.float32)\n",
    "            \n",
    "    # Flips\n",
    "    image = tf.image.random_flip_left_right(image)\n",
    "    image = tf.image.random_flip_up_down(image)\n",
    "    if p_spatial > .75:\n",
    "        image = tf.image.transpose(image)\n",
    "        \n",
    "    # Rotates\n",
    "    if p_rotate > .75:\n",
    "        image = tf.image.rot90(image, k=3) # rotate 270º\n",
    "    elif p_rotate > .5:\n",
    "        image = tf.image.rot90(image, k=2) # rotate 180º\n",
    "    elif p_rotate > .25:\n",
    "        image = tf.image.rot90(image, k=1) # rotate 90º\n",
    "        \n",
    "    # Pixel-level transforms\n",
    "    if p_pixel_1 >= .4:\n",
    "        image = tf.image.random_saturation(image, lower=.7, upper=1.3)\n",
    "    if p_pixel_2 >= .4:\n",
    "        image = tf.image.random_contrast(image, lower=.8, upper=1.2)\n",
    "    if p_pixel_3 >= .4:\n",
    "        image = tf.image.random_brightness(image, max_delta=.1)\n",
    "            \n",
    "\n",
    "    return image, label"
   ]
  },
  {
   "cell_type": "markdown",
   "metadata": {
    "papermill": {
     "duration": 0.016177,
     "end_time": "2021-01-29T23:44:38.014425",
     "exception": false,
     "start_time": "2021-01-29T23:44:37.998248",
     "status": "completed"
    },
    "tags": []
   },
   "source": [
    "## Auxiliary functions"
   ]
  },
  {
   "cell_type": "code",
   "execution_count": 6,
   "metadata": {
    "_cell_guid": "79c7e3d0-c299-4dcb-8224-4455121ee9b0",
    "_kg_hide-input": true,
    "_uuid": "d629ff2d2480ee46fbb7e2d37f6b5fab8052498a",
    "execution": {
     "iopub.execute_input": "2021-01-29T23:44:38.063847Z",
     "iopub.status.busy": "2021-01-29T23:44:38.062952Z",
     "iopub.status.idle": "2021-01-29T23:44:38.065815Z",
     "shell.execute_reply": "2021-01-29T23:44:38.065331Z"
    },
    "papermill": {
     "duration": 0.036378,
     "end_time": "2021-01-29T23:44:38.065918",
     "exception": false,
     "start_time": "2021-01-29T23:44:38.029540",
     "status": "completed"
    },
    "tags": []
   },
   "outputs": [],
   "source": [
    "# Datasets utility functions\n",
    "def get_name(file_path):\n",
    "    parts = tf.strings.split(file_path, os.path.sep)\n",
    "    name = parts[-1]\n",
    "    return name\n",
    "\n",
    "def decode_image(image_data):\n",
    "    image = tf.image.decode_jpeg(image_data, channels=3)\n",
    "    image = tf.cast(image, tf.float32) / 255.0\n",
    "    \n",
    "#     image = center_crop(image)\n",
    "    return image\n",
    "\n",
    "def center_crop(image):\n",
    "    image = tf.reshape(image, [600, 800, CHANNELS]) # Original shape\n",
    "    \n",
    "    h, w = image.shape[0], image.shape[1]\n",
    "    if h > w:\n",
    "        image = tf.image.crop_to_bounding_box(image, (h - w) // 2, 0, w, w)\n",
    "    else:\n",
    "        image = tf.image.crop_to_bounding_box(image, 0, (w - h) // 2, h, h)\n",
    "        \n",
    "    image = tf.image.resize(image, [HEIGHT, WIDTH]) # Expected shape\n",
    "    return image\n",
    "\n",
    "def resize_image(image, label):\n",
    "    image = tf.image.resize(image, [HEIGHT, WIDTH])\n",
    "    image = tf.reshape(image, [HEIGHT, WIDTH, CHANNELS])\n",
    "    return image, label\n",
    "\n",
    "def process_path(file_path):\n",
    "    name = get_name(file_path)\n",
    "    img = tf.io.read_file(file_path)\n",
    "    img = decode_image(img)\n",
    "    return img, name\n",
    "\n",
    "def get_dataset(files_path, shuffled=False, tta=False, extension='jpg'):\n",
    "    dataset = tf.data.Dataset.list_files(f'{files_path}*{extension}', shuffle=shuffled)\n",
    "    dataset = dataset.map(process_path, num_parallel_calls=AUTO)\n",
    "    if tta:\n",
    "        dataset = dataset.map(data_augment, num_parallel_calls=AUTO)\n",
    "    dataset = dataset.map(resize_image, num_parallel_calls=AUTO)\n",
    "    dataset = dataset.batch(BATCH_SIZE)\n",
    "    dataset = dataset.prefetch(AUTO)\n",
    "    return dataset\n",
    "\n",
    "def count_data_items(filenames):\n",
    "    n = [int(re.compile(r\"-([0-9]*)\\.\").search(filename).group(1)) for filename in filenames]\n",
    "    return np.sum(n)"
   ]
  },
  {
   "cell_type": "markdown",
   "metadata": {
    "papermill": {
     "duration": 0.015268,
     "end_time": "2021-01-29T23:44:38.097055",
     "exception": false,
     "start_time": "2021-01-29T23:44:38.081787",
     "status": "completed"
    },
    "tags": []
   },
   "source": [
    "# Load data"
   ]
  },
  {
   "cell_type": "code",
   "execution_count": 7,
   "metadata": {
    "_kg_hide-input": true,
    "execution": {
     "iopub.execute_input": "2021-01-29T23:44:38.137361Z",
     "iopub.status.busy": "2021-01-29T23:44:38.136670Z",
     "iopub.status.idle": "2021-01-29T23:44:38.168853Z",
     "shell.execute_reply": "2021-01-29T23:44:38.169430Z"
    },
    "papermill": {
     "duration": 0.057021,
     "end_time": "2021-01-29T23:44:38.169572",
     "exception": false,
     "start_time": "2021-01-29T23:44:38.112551",
     "status": "completed"
    },
    "tags": []
   },
   "outputs": [
    {
     "data": {
      "text/html": [
       "<div>\n",
       "<style scoped>\n",
       "    .dataframe tbody tr th:only-of-type {\n",
       "        vertical-align: middle;\n",
       "    }\n",
       "\n",
       "    .dataframe tbody tr th {\n",
       "        vertical-align: top;\n",
       "    }\n",
       "\n",
       "    .dataframe thead th {\n",
       "        text-align: right;\n",
       "    }\n",
       "</style>\n",
       "<table border=\"1\" class=\"dataframe\">\n",
       "  <thead>\n",
       "    <tr style=\"text-align: right;\">\n",
       "      <th></th>\n",
       "      <th>image_id</th>\n",
       "      <th>label</th>\n",
       "    </tr>\n",
       "  </thead>\n",
       "  <tbody>\n",
       "    <tr>\n",
       "      <th>0</th>\n",
       "      <td>2216849948.jpg</td>\n",
       "      <td>4</td>\n",
       "    </tr>\n",
       "  </tbody>\n",
       "</table>\n",
       "</div>"
      ],
      "text/plain": [
       "         image_id  label\n",
       "0  2216849948.jpg      4"
      ]
     },
     "metadata": {},
     "output_type": "display_data"
    },
    {
     "name": "stdout",
     "output_type": "stream",
     "text": [
      "GCS: test: 1\n"
     ]
    }
   ],
   "source": [
    "database_base_path = '/kaggle/input/cassava-leaf-disease-classification/'\n",
    "submission = pd.read_csv(f'{database_base_path}sample_submission.csv')\n",
    "display(submission.head())\n",
    "\n",
    "TEST_FILENAMES = tf.io.gfile.glob(f'{database_base_path}test_tfrecords/ld_test*.tfrec')\n",
    "NUM_TEST_IMAGES = count_data_items(TEST_FILENAMES)\n",
    "print(f'GCS: test: {NUM_TEST_IMAGES}')"
   ]
  },
  {
   "cell_type": "code",
   "execution_count": 8,
   "metadata": {
    "_kg_hide-input": true,
    "execution": {
     "iopub.execute_input": "2021-01-29T23:44:38.207557Z",
     "iopub.status.busy": "2021-01-29T23:44:38.206850Z",
     "iopub.status.idle": "2021-01-29T23:44:38.220367Z",
     "shell.execute_reply": "2021-01-29T23:44:38.219810Z"
    },
    "papermill": {
     "duration": 0.034311,
     "end_time": "2021-01-29T23:44:38.220488",
     "exception": false,
     "start_time": "2021-01-29T23:44:38.186177",
     "status": "completed"
    },
    "tags": []
   },
   "outputs": [
    {
     "name": "stdout",
     "output_type": "stream",
     "text": [
      "Models to predict:\n",
      "/kaggle/input/cassava-leaf-disease-tpu-tensorflow-training/model_0.h5\n",
      "/kaggle/input/cassava-leaf-disease-tpu-tensorflow-training/model_1.h5\n",
      "/kaggle/input/cassava-leaf-disease-tpu-tensorflow-training/model_2.h5\n",
      "/kaggle/input/cassava-leaf-disease-tpu-tensorflow-training/model_3.h5\n",
      "/kaggle/input/cassava-leaf-disease-tpu-tensorflow-training/model_4.h5\n"
     ]
    }
   ],
   "source": [
    "model_path_list = glob.glob('/kaggle/input/cassava-leaf-disease-tpu-tensorflow-training/*.h5')\n",
    "model_path_list.sort()\n",
    "\n",
    "print('Models to predict:')\n",
    "print(*model_path_list, sep='\\n')"
   ]
  },
  {
   "cell_type": "code",
   "execution_count": 9,
   "metadata": {
    "_kg_hide-input": true,
    "execution": {
     "iopub.execute_input": "2021-01-29T23:44:38.263631Z",
     "iopub.status.busy": "2021-01-29T23:44:38.262717Z",
     "iopub.status.idle": "2021-01-29T23:44:38.273791Z",
     "shell.execute_reply": "2021-01-29T23:44:38.273180Z"
    },
    "papermill": {
     "duration": 0.035326,
     "end_time": "2021-01-29T23:44:38.273905",
     "exception": false,
     "start_time": "2021-01-29T23:44:38.238579",
     "status": "completed"
    },
    "tags": []
   },
   "outputs": [
    {
     "name": "stdout",
     "output_type": "stream",
     "text": [
      "Models to predict:\n",
      "/kaggle/input/cassava-leaf-disease-training-with-tpu-v2-pods/model_0.h5\n",
      "/kaggle/input/cassava-leaf-disease-training-with-tpu-v2-pods/model_1.h5\n",
      "/kaggle/input/cassava-leaf-disease-training-with-tpu-v2-pods/model_2.h5\n",
      "/kaggle/input/cassava-leaf-disease-training-with-tpu-v2-pods/model_3.h5\n",
      "/kaggle/input/cassava-leaf-disease-training-with-tpu-v2-pods/model_4.h5\n"
     ]
    }
   ],
   "source": [
    "model_path_list_2 = glob.glob('/kaggle/input/cassava-leaf-disease-training-with-tpu-v2-pods/*.h5')\n",
    "model_path_list_2.sort()\n",
    "\n",
    "print('Models to predict:')\n",
    "print(*model_path_list_2, sep='\\n')"
   ]
  },
  {
   "cell_type": "markdown",
   "metadata": {
    "papermill": {
     "duration": 0.016896,
     "end_time": "2021-01-29T23:44:38.308529",
     "exception": false,
     "start_time": "2021-01-29T23:44:38.291633",
     "status": "completed"
    },
    "tags": []
   },
   "source": [
    "# Model"
   ]
  },
  {
   "cell_type": "code",
   "execution_count": 10,
   "metadata": {
    "execution": {
     "iopub.execute_input": "2021-01-29T23:44:38.355766Z",
     "iopub.status.busy": "2021-01-29T23:44:38.355029Z",
     "iopub.status.idle": "2021-01-29T23:44:57.068801Z",
     "shell.execute_reply": "2021-01-29T23:44:57.067997Z"
    },
    "papermill": {
     "duration": 18.743153,
     "end_time": "2021-01-29T23:44:57.068956",
     "exception": false,
     "start_time": "2021-01-29T23:44:38.325803",
     "status": "completed"
    },
    "tags": []
   },
   "outputs": [
    {
     "name": "stdout",
     "output_type": "stream",
     "text": [
      "Model: \"sequential\"\n",
      "_________________________________________________________________\n",
      "Layer (type)                 Output Shape              Param #   \n",
      "=================================================================\n",
      "efficientnet-b3 (Model)      (None, 1536)              10783528  \n",
      "_________________________________________________________________\n",
      "dropout (Dropout)            (None, 1536)              0         \n",
      "_________________________________________________________________\n",
      "output (Dense)               (None, 5)                 7685      \n",
      "=================================================================\n",
      "Total params: 10,791,213\n",
      "Trainable params: 10,703,917\n",
      "Non-trainable params: 87,296\n",
      "_________________________________________________________________\n"
     ]
    }
   ],
   "source": [
    "def model_fn(input_shape, N_CLASSES):\n",
    "    inputs = L.Input(shape=input_shape, name='inputs')\n",
    "    base_model = efn.EfficientNetB3(input_tensor=inputs, \n",
    "                                    include_top=False, \n",
    "                                    weights=None, \n",
    "                                    pooling='avg')\n",
    "\n",
    "    model = tf.keras.Sequential([\n",
    "        base_model,\n",
    "        L.Dropout(.25),\n",
    "        L.Dense(N_CLASSES, activation='softmax', name='output')\n",
    "    ])\n",
    "    \n",
    "    return model\n",
    "\n",
    "def model_fn_2(input_shape, N_CLASSES):\n",
    "    inputs = L.Input(shape=input_shape, name='inputs')\n",
    "    base_model = efn.EfficientNetB4(input_tensor=inputs, \n",
    "                                    include_top=False, \n",
    "                                    weights=None, \n",
    "                                    pooling='avg')\n",
    "    \n",
    "    \n",
    "\n",
    "\n",
    "    x = L.Dropout(.5)(base_model.output)\n",
    "    output = L.Dense(N_CLASSES, activation='softmax', name='output')(x)\n",
    "    model = Model(inputs=inputs, outputs=output)\n",
    "\n",
    "    return model\n",
    "\n",
    "\n",
    "with strategy.scope():\n",
    "    model = model_fn((None, None, CHANNELS), N_CLASSES)\n",
    "    model_2 = model_fn_2((None, None, CHANNELS), N_CLASSES)\n",
    "    \n",
    "model.summary()\n",
    "# model_2.summary()"
   ]
  },
  {
   "cell_type": "markdown",
   "metadata": {
    "papermill": {
     "duration": 0.016952,
     "end_time": "2021-01-29T23:44:57.103303",
     "exception": false,
     "start_time": "2021-01-29T23:44:57.086351",
     "status": "completed"
    },
    "tags": []
   },
   "source": [
    "# Test set predictions"
   ]
  },
  {
   "cell_type": "code",
   "execution_count": 11,
   "metadata": {
    "_kg_hide-input": false,
    "execution": {
     "iopub.execute_input": "2021-01-29T23:44:57.153997Z",
     "iopub.status.busy": "2021-01-29T23:44:57.153329Z",
     "iopub.status.idle": "2021-01-29T23:46:09.764621Z",
     "shell.execute_reply": "2021-01-29T23:46:09.766572Z"
    },
    "papermill": {
     "duration": 72.646381,
     "end_time": "2021-01-29T23:46:09.766797",
     "exception": false,
     "start_time": "2021-01-29T23:44:57.120416",
     "status": "completed"
    },
    "tags": []
   },
   "outputs": [
    {
     "name": "stdout",
     "output_type": "stream",
     "text": [
      "First model\n",
      "/kaggle/input/cassava-leaf-disease-tpu-tensorflow-training/model_0.h5\n",
      "TTA step 1/5\n",
      "TTA step 2/5\n",
      "TTA step 3/5\n",
      "TTA step 4/5\n",
      "TTA step 5/5\n",
      "/kaggle/input/cassava-leaf-disease-tpu-tensorflow-training/model_1.h5\n",
      "TTA step 1/5\n",
      "TTA step 2/5\n",
      "TTA step 3/5\n",
      "TTA step 4/5\n",
      "TTA step 5/5\n",
      "/kaggle/input/cassava-leaf-disease-tpu-tensorflow-training/model_2.h5\n",
      "TTA step 1/5\n",
      "TTA step 2/5\n",
      "TTA step 3/5\n",
      "TTA step 4/5\n",
      "TTA step 5/5\n",
      "/kaggle/input/cassava-leaf-disease-tpu-tensorflow-training/model_3.h5\n",
      "TTA step 1/5\n",
      "TTA step 2/5\n",
      "TTA step 3/5\n",
      "TTA step 4/5\n",
      "TTA step 5/5\n",
      "/kaggle/input/cassava-leaf-disease-tpu-tensorflow-training/model_4.h5\n",
      "TTA step 1/5\n",
      "TTA step 2/5\n",
      "TTA step 3/5\n",
      "TTA step 4/5\n",
      "TTA step 5/5\n",
      "\n",
      "Second model\n",
      "/kaggle/input/cassava-leaf-disease-training-with-tpu-v2-pods/model_0.h5\n",
      "TTA step 1/5\n",
      "TTA step 2/5\n",
      "TTA step 3/5\n",
      "TTA step 4/5\n",
      "TTA step 5/5\n",
      "/kaggle/input/cassava-leaf-disease-training-with-tpu-v2-pods/model_1.h5\n",
      "TTA step 1/5\n",
      "TTA step 2/5\n",
      "TTA step 3/5\n",
      "TTA step 4/5\n",
      "TTA step 5/5\n",
      "/kaggle/input/cassava-leaf-disease-training-with-tpu-v2-pods/model_2.h5\n",
      "TTA step 1/5\n",
      "TTA step 2/5\n",
      "TTA step 3/5\n",
      "TTA step 4/5\n",
      "TTA step 5/5\n",
      "/kaggle/input/cassava-leaf-disease-training-with-tpu-v2-pods/model_3.h5\n",
      "TTA step 1/5\n",
      "TTA step 2/5\n",
      "TTA step 3/5\n",
      "TTA step 4/5\n",
      "TTA step 5/5\n",
      "/kaggle/input/cassava-leaf-disease-training-with-tpu-v2-pods/model_4.h5\n",
      "TTA step 1/5\n",
      "TTA step 2/5\n",
      "TTA step 3/5\n",
      "TTA step 4/5\n",
      "TTA step 5/5\n"
     ]
    }
   ],
   "source": [
    "files_path = f'{database_base_path}test_images/'\n",
    "test_preds = np.zeros((len(os.listdir(files_path)), N_CLASSES))\n",
    "\n",
    "\n",
    "print('First model')\n",
    "for model_path in model_path_list:\n",
    "    print(model_path)\n",
    "    K.clear_session()\n",
    "    model.load_weights(model_path)\n",
    "\n",
    "    if TTA_STEPS > 0:\n",
    "        test_ds = get_dataset(files_path, tta=True)\n",
    "        for step in range(TTA_STEPS):\n",
    "            print(f'TTA step {step+1}/{TTA_STEPS}')\n",
    "            x_test = test_ds.map(lambda image, image_name: image)\n",
    "            test_preds += model.predict(x_test) / (TTA_STEPS * len(model_path_list))\n",
    "    else:\n",
    "        test_ds = get_dataset(files_path, tta=False)\n",
    "        x_test = test_ds.map(lambda image, image_name: image)\n",
    "        test_preds += model.predict(x_test) / len(model_path_list)\n",
    "\n",
    "\n",
    "print('\\nSecond model')\n",
    "for model_path in model_path_list_2:\n",
    "    print(model_path)\n",
    "    K.clear_session()\n",
    "    model_2.load_weights(model_path)\n",
    "\n",
    "    if TTA_STEPS > 0:\n",
    "        test_ds = get_dataset(files_path, tta=True)\n",
    "        for step in range(TTA_STEPS):\n",
    "            print(f'TTA step {step+1}/{TTA_STEPS}')\n",
    "            x_test = test_ds.map(lambda image, image_name: image)\n",
    "            test_preds += model_2.predict(x_test) / (TTA_STEPS * len(model_path_list))\n",
    "    else:\n",
    "        test_ds = get_dataset(files_path, tta=False)\n",
    "        x_test = test_ds.map(lambda image, image_name: image)\n",
    "        test_preds += model_2.predict(x_test) / len(model_path_list)\n",
    "    \n",
    "test_preds = np.argmax(test_preds, axis=-1)\n",
    "image_names = [img_name.numpy().decode('utf-8') for img, img_name in iter(test_ds.unbatch())]"
   ]
  },
  {
   "cell_type": "code",
   "execution_count": 12,
   "metadata": {
    "_kg_hide-input": true,
    "execution": {
     "iopub.execute_input": "2021-01-29T23:46:09.876535Z",
     "iopub.status.busy": "2021-01-29T23:46:09.875444Z",
     "iopub.status.idle": "2021-01-29T23:46:09.939901Z",
     "shell.execute_reply": "2021-01-29T23:46:09.938813Z"
    },
    "papermill": {
     "duration": 0.115342,
     "end_time": "2021-01-29T23:46:09.940020",
     "exception": false,
     "start_time": "2021-01-29T23:46:09.824678",
     "status": "completed"
    },
    "tags": []
   },
   "outputs": [
    {
     "data": {
      "text/html": [
       "<div>\n",
       "<style scoped>\n",
       "    .dataframe tbody tr th:only-of-type {\n",
       "        vertical-align: middle;\n",
       "    }\n",
       "\n",
       "    .dataframe tbody tr th {\n",
       "        vertical-align: top;\n",
       "    }\n",
       "\n",
       "    .dataframe thead th {\n",
       "        text-align: right;\n",
       "    }\n",
       "</style>\n",
       "<table border=\"1\" class=\"dataframe\">\n",
       "  <thead>\n",
       "    <tr style=\"text-align: right;\">\n",
       "      <th></th>\n",
       "      <th>image_id</th>\n",
       "      <th>label</th>\n",
       "    </tr>\n",
       "  </thead>\n",
       "  <tbody>\n",
       "    <tr>\n",
       "      <th>0</th>\n",
       "      <td>2216849948.jpg</td>\n",
       "      <td>4</td>\n",
       "    </tr>\n",
       "  </tbody>\n",
       "</table>\n",
       "</div>"
      ],
      "text/plain": [
       "         image_id  label\n",
       "0  2216849948.jpg      4"
      ]
     },
     "metadata": {},
     "output_type": "display_data"
    }
   ],
   "source": [
    "submission = pd.DataFrame({'image_id': image_names, 'label': test_preds})\n",
    "submission.to_csv('submission.csv', index=False)\n",
    "display(submission.head())"
   ]
  }
 ],
 "metadata": {
  "kernelspec": {
   "display_name": "Python 3",
   "language": "python",
   "name": "python3"
  },
  "language_info": {
   "codemirror_mode": {
    "name": "ipython",
    "version": 3
   },
   "file_extension": ".py",
   "mimetype": "text/x-python",
   "name": "python",
   "nbconvert_exporter": "python",
   "pygments_lexer": "ipython3",
   "version": "3.7.6"
  },
  "papermill": {
   "duration": 164.930087,
   "end_time": "2021-01-29T23:46:11.383934",
   "environment_variables": {},
   "exception": null,
   "input_path": "__notebook__.ipynb",
   "output_path": "__notebook__.ipynb",
   "parameters": {},
   "start_time": "2021-01-29T23:43:26.453847",
   "version": "2.1.0"
  }
 },
 "nbformat": 4,
 "nbformat_minor": 4
}
